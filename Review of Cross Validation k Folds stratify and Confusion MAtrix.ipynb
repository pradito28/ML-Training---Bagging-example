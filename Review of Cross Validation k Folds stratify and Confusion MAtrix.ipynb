{
 "cells": [
  {
   "cell_type": "markdown",
   "id": "ccddbdd2",
   "metadata": {},
   "source": [
    "Importante entender qu estamos intentando medir o estimar el rendimiento del modelo con datos qu eno ha visto antes."
   ]
  },
  {
   "cell_type": "code",
   "execution_count": 13,
   "id": "2018caa0",
   "metadata": {},
   "outputs": [
    {
     "data": {
      "text/plain": [
       "array(['B', 'M'], dtype=object)"
      ]
     },
     "execution_count": 13,
     "metadata": {},
     "output_type": "execute_result"
    }
   ],
   "source": [
    "#Read data wines\n",
    "import pandas as pd\n",
    "df=pd.read_csv(\"wdbc.data\",header=None)\n",
    "\n",
    "#Separar en X e y\n",
    "\n",
    "X=df.iloc[:,2:].values\n",
    "y=df.iloc[:,1].values\n",
    "\n",
    "#Label Encoder\n",
    "\n",
    "from sklearn.preprocessing import LabelEncoder\n",
    "le=LabelEncoder()\n",
    "y=le.fit_transform(y)\n",
    "le.classes_"
   ]
  },
  {
   "cell_type": "code",
   "execution_count": 14,
   "id": "f29e5fb4",
   "metadata": {},
   "outputs": [],
   "source": [
    "#Split the data\n",
    "from sklearn.model_selection import train_test_split\n",
    "X_train,X_test,y_train,y_test=train_test_split(X,y,test_size=0.2,stratify=y,random_state=1)"
   ]
  },
  {
   "cell_type": "code",
   "execution_count": 15,
   "id": "ab92f8be",
   "metadata": {},
   "outputs": [
    {
     "name": "stdout",
     "output_type": "stream",
     "text": [
      "[0.93478261 0.93478261 0.95652174 0.95652174 0.93478261 0.95555556\n",
      " 0.97777778 0.93333333 0.95555556 0.95555556]\n",
      "0.9495169082125603\n"
     ]
    }
   ],
   "source": [
    "#Create the pipeline\n",
    "from sklearn.pipeline import make_pipeline\n",
    "from sklearn.preprocessing import StandardScaler\n",
    "from sklearn.linear_model import LogisticRegression\n",
    "from sklearn.decomposition import PCA\n",
    "import numpy as np\n",
    "\n",
    "pipeline_lr=make_pipeline(StandardScaler(),\n",
    "                           PCA(n_components=2),\n",
    "                          LogisticRegression(random_state=1))\n",
    "\n",
    "#Implementamos una validacion cruzada, con k+10 iteraciones y stratificada. Finalmente sacamos los scores \n",
    "#calculamos la media\n",
    "\n",
    "from sklearn.model_selection import cross_val_score\n",
    "scores=cross_val_score(estimator = pipeline_lr,\n",
    "                       X=X_train,\n",
    "                        y=y_train,\n",
    "                      cv=10,\n",
    "                       n_jobs=1)\n",
    "\n",
    "print(scores)\n",
    "print(np.mean(scores))\n"
   ]
  },
  {
   "cell_type": "code",
   "execution_count": 20,
   "id": "53e58521",
   "metadata": {},
   "outputs": [],
   "source": [
    "#Metricas de evaluación de rendimiento\n",
    "#Creamos el modelo svc otra vez\n",
    "\n",
    "from sklearn.svm import SVC\n",
    "from sklearn.model_selection import GridSearchCV\n",
    "from sklearn.model_selection import cross_val_score\n",
    "\n",
    "pipe_svc=make_pipeline(StandardScaler(),SVC())\n",
    "\n",
    "param_range=[0.0001,0.001,0.01,0.1,1.0,10.0,100.0,1000.0]\n",
    "param_grid=[{\"svc__C\":param_range,\n",
    "             \"svc__kernel\":[\"linear\"]},\n",
    "           {\"svc_C\":param_range,\n",
    "           \"svc__gamma\":param_range,\n",
    "       \"svc__kernel\":[\"rbf\"]}]\n",
    "\n",
    "gs=GridSearchCV(estimator=pipe_svc,\n",
    "                    param_grid=param_grid,\n",
    "                    cv=5,\n",
    "                    scoring=\"accuracy\")\n",
    "\n",
    "scores=cross_val_score(gs, X_train, y_train, cv=5, scoring=\"accuracy\")"
   ]
  },
  {
   "cell_type": "code",
   "execution_count": 24,
   "id": "065a0fc3",
   "metadata": {},
   "outputs": [
    {
     "name": "stdout",
     "output_type": "stream",
     "text": [
      "[[71  1]\n",
      " [ 2 40]]\n"
     ]
    }
   ],
   "source": [
    "#Confusion Matrix\n",
    "from sklearn.metrics import confusion_matrix\n",
    "\n",
    "\n",
    "pipe_svc.fit(X_train,y_train)\n",
    "y_pred=pipe_svc.predict(X_test)\n",
    "confmat=confusion_matrix(y_true=y_test,y_pred=y_pred)\n",
    "print(confmat)"
   ]
  },
  {
   "cell_type": "code",
   "execution_count": null,
   "id": "48806c25",
   "metadata": {},
   "outputs": [],
   "source": []
  }
 ],
 "metadata": {
  "kernelspec": {
   "display_name": "Python 3 (ipykernel)",
   "language": "python",
   "name": "python3"
  },
  "language_info": {
   "codemirror_mode": {
    "name": "ipython",
    "version": 3
   },
   "file_extension": ".py",
   "mimetype": "text/x-python",
   "name": "python",
   "nbconvert_exporter": "python",
   "pygments_lexer": "ipython3",
   "version": "3.9.18"
  }
 },
 "nbformat": 4,
 "nbformat_minor": 5
}
