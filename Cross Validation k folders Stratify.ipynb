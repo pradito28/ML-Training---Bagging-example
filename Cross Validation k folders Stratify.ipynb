{
 "cells": [
  {
   "cell_type": "code",
   "execution_count": 10,
   "id": "1d7ac3f5",
   "metadata": {},
   "outputs": [],
   "source": [
    "#Importamos el conjunto de datos Breat Cancer Wisconsin, con 569 muestras de celulas tumorales benignas y malignas. \n",
    "# LAs dos priemras columnas alamcenan lo sId unicos de las muestras y sus daignosticos, M MAligna y B Benigna. Las columnas 3-32 \n",
    "#continene 30 caracteristicas de valor real actualizadas a partir de imagenes digitalizadas de nucleos celualres. \n",
    "#Leemos el conjunto de datos \n",
    "\n",
    "import pandas as pd\n",
    "df=pd.read_csv(\"wdbc.data\",header=None)"
   ]
  },
  {
   "cell_type": "code",
   "execution_count": 11,
   "id": "036968b9",
   "metadata": {},
   "outputs": [
    {
     "data": {
      "text/plain": [
       "array(['B', 'M'], dtype=object)"
      ]
     },
     "execution_count": 11,
     "metadata": {},
     "output_type": "execute_result"
    }
   ],
   "source": [
    "#Preparamos X e y\n",
    "X=df.iloc[:,2:].values\n",
    "y=df.iloc[:,1].values\n",
    "\n",
    "#Hacemos LabelEncoder de su representacion M B a enteros\n",
    "from sklearn.preprocessing import LabelEncoder\n",
    "le=LabelEncoder()\n",
    "y=le.fit_transform(y)\n",
    "le.classes_"
   ]
  },
  {
   "cell_type": "code",
   "execution_count": 12,
   "id": "7e3dd6f4",
   "metadata": {},
   "outputs": [],
   "source": [
    "#Split the data\n",
    "from sklearn.model_selection import train_test_split\n",
    "X_train,X_test,y_train,y_test=train_test_split(X,y,test_size=0.2,stratify=y,random_state=0)"
   ]
  },
  {
   "cell_type": "code",
   "execution_count": 13,
   "id": "7dddb4ba",
   "metadata": {},
   "outputs": [
    {
     "data": {
      "text/plain": [
       "0.9298245614035088"
      ]
     },
     "execution_count": 13,
     "metadata": {},
     "output_type": "execute_result"
    }
   ],
   "source": [
    "# Aprendemos los pipelines y combinamos transformadores y estimadores\n",
    "#Vamos a fit and transform un StandardSCaler y sacar lo sPCAs y finalmente aplicar un LogisticREgression\n",
    "\n",
    "from sklearn.preprocessing import StandardScaler\n",
    "from sklearn.decomposition import PCA\n",
    "from sklearn.linear_model import LogisticRegression\n",
    "from sklearn.pipeline import make_pipeline \n",
    "\n",
    "pipe_lr=make_pipeline(StandardScaler(),\n",
    "                     PCA(n_components=2),\n",
    "                     LogisticRegression(random_state=1))\n",
    "pipe_lr.fit(X_train,y_train)\n",
    "y_pred=pipe_lr.predict(X_test)\n",
    "pipe_lr.score(X_test,y_test)\n"
   ]
  },
  {
   "cell_type": "markdown",
   "id": "94ab5bce",
   "metadata": {},
   "source": [
    "## Validacion cruzada estratificada"
   ]
  },
  {
   "cell_type": "code",
   "execution_count": 19,
   "id": "b2ecc0f7",
   "metadata": {},
   "outputs": [
    {
     "name": "stdout",
     "output_type": "stream",
     "text": [
      "Fold:  1, Class dist.: [256 153], Acc: 0.957\n",
      "Fold:  2, Class dist.: [256 153], Acc: 0.978\n",
      "Fold:  3, Class dist.: [256 153], Acc: 0.935\n",
      "Fold:  4, Class dist.: [256 153], Acc: 0.978\n",
      "Fold:  5, Class dist.: [256 153], Acc: 1.000\n",
      "Fold:  6, Class dist.: [257 153], Acc: 0.978\n",
      "Fold:  7, Class dist.: [257 153], Acc: 0.956\n",
      "Fold:  8, Class dist.: [257 153], Acc: 0.889\n",
      "Fold:  9, Class dist.: [257 153], Acc: 0.978\n",
      "Fold: 10, Class dist.: [257 153], Acc: 1.000\n"
     ]
    }
   ],
   "source": [
    "# Ahora usamos la validacion cruzada de k iteraciones estratificada. Esta respeta las proporciones de clase\n",
    "#en cada iteracion para garantizar que cada iteracion representa las proporciones de clase\n",
    "#en el conjunto de datos.\n",
    "#FOLLOWING from above\n",
    "\n",
    "from sklearn.model_selection import StratifiedKFold\n",
    "import numpy as np\n",
    "\n",
    "pipe_lr=make_pipeline(StandardScaler(),\n",
    "                     PCA(n_components=2),\n",
    "                     LogisticRegression(random_state=1))\n",
    "\n",
    "kfold=StratifiedKFold(n_splits=10,random_state=None).split(X_train,y_train)\n",
    "scores=[]\n",
    "\n",
    "for k,(train,test) in enumerate(kfold):\n",
    "   # print(train)\n",
    "    #print(test)\n",
    "    pipe_lr.fit(X_train[train],y_train[train])\n",
    "    score=pipe_lr.score(X_train[test],y_train[test])\n",
    "    scores.append(score)\n",
    "    print(\"Fold: %2d, Class dist.: %s, Acc: %.3f\" % (k+1,np.bincount(y_train[train]),score))\n",
    "    "
   ]
  },
  {
   "cell_type": "code",
   "execution_count": 15,
   "id": "60dd5601",
   "metadata": {},
   "outputs": [
    {
     "name": "stdout",
     "output_type": "stream",
     "text": [
      "1 [256 153] 0.9565217391304348\n",
      "2 [256 153] 0.9782608695652174\n",
      "3 [256 153] 0.9347826086956522\n",
      "4 [256 153] 0.9782608695652174\n",
      "5 [256 153] 1.0\n",
      "6 [257 153] 0.9777777777777777\n",
      "7 [257 153] 0.9555555555555556\n",
      "8 [257 153] 0.8888888888888888\n",
      "9 [257 153] 0.9777777777777777\n",
      "10 [257 153] 1.0\n"
     ]
    }
   ],
   "source": [
    "#Repito\n",
    "\n",
    "kfold=StratifiedKFold(n_splits=10,random_state=None).split(X_train,y_train)\n",
    "#Me genera 10 matrices de entrenamiento y 10 vectores de test.\n",
    "scores=[]\n",
    "#enumerate nos mantiene en el k estamos y nos saca el train y test para ese k.\n",
    "\n",
    "for k, (train,test) in enumerate(kfold):\n",
    "   \n",
    "    pipe_lr.fit(X_train[train],y_train[train])\n",
    "    score=pipe_lr.score(X_train[test],y_train[test])\n",
    "    scores.append(score)\n",
    "    print(k+1,np.bincount(y_train[train]),score)"
   ]
  },
  {
   "cell_type": "code",
   "execution_count": 25,
   "id": "f8d6870c",
   "metadata": {},
   "outputs": [
    {
     "name": "stdout",
     "output_type": "stream",
     "text": [
      "0.9647826086956522\n"
     ]
    }
   ],
   "source": [
    "#forma smas directa de sklearn\n",
    "from sklearn.model_selection import cross_val_score\n",
    "\n",
    "sc=cross_val_score(estimator=pipe_lr,\n",
    "                   X=X_train,\n",
    "                  y=y_train,\n",
    "                  cv=10,\n",
    "                  n_jobs=1)\n",
    "\n",
    "print(np.mean(scores))"
   ]
  }
 ],
 "metadata": {
  "kernelspec": {
   "display_name": "Python 3 (ipykernel)",
   "language": "python",
   "name": "python3"
  },
  "language_info": {
   "codemirror_mode": {
    "name": "ipython",
    "version": 3
   },
   "file_extension": ".py",
   "mimetype": "text/x-python",
   "name": "python",
   "nbconvert_exporter": "python",
   "pygments_lexer": "ipython3",
   "version": "3.9.18"
  }
 },
 "nbformat": 4,
 "nbformat_minor": 5
}
